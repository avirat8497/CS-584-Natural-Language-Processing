{
 "cells": [
  {
   "cell_type": "markdown",
   "metadata": {},
   "source": [
    "# Import Pacakages"
   ]
  },
  {
   "cell_type": "code",
   "execution_count": 1,
   "metadata": {},
   "outputs": [],
   "source": [
    "import re\n",
    "import pandas as pd\n",
    "import numpy as np \n",
    "from sklearn.model_selection import train_test_split\n",
    "from sklearn.feature_extraction.text import CountVectorizer\n",
    "from sklearn.feature_extraction.text import TfidfVectorizer\n",
    "from sklearn.metrics import accuracy_score\n",
    "from sklearn.neural_network import MLPClassifier\n",
    "from sklearn.model_selection import cross_val_score\n",
    "import matplotlib.pyplot as plt\n",
    "import scipy\n",
    "from sklearn.linear_model import LogisticRegression"
   ]
  },
  {
   "cell_type": "markdown",
   "metadata": {},
   "source": [
    "# Pre Process book Data"
   ]
  },
  {
   "cell_type": "code",
   "execution_count": 1,
   "metadata": {},
   "outputs": [
    {
     "ename": "FileNotFoundError",
     "evalue": "[Errno 2] No such file or directory: 'pg31100.txt'",
     "output_type": "error",
     "traceback": [
      "\u001b[0;31m---------------------------------------------------------------------------\u001b[0m",
      "\u001b[0;31mFileNotFoundError\u001b[0m                         Traceback (most recent call last)",
      "\u001b[0;32m<ipython-input-1-b474cb605753>\u001b[0m in \u001b[0;36m<module>\u001b[0;34m\u001b[0m\n\u001b[1;32m      1\u001b[0m \u001b[0mname3\u001b[0m \u001b[0;34m=\u001b[0m \u001b[0;34m'pg31100.txt'\u001b[0m\u001b[0;34m\u001b[0m\u001b[0;34m\u001b[0m\u001b[0m\n\u001b[0;32m----> 2\u001b[0;31m \u001b[0mfile\u001b[0m \u001b[0;34m=\u001b[0m \u001b[0mopen\u001b[0m\u001b[0;34m(\u001b[0m\u001b[0mname3\u001b[0m\u001b[0;34m)\u001b[0m\u001b[0;34m\u001b[0m\u001b[0;34m\u001b[0m\u001b[0m\n\u001b[0m\u001b[1;32m      3\u001b[0m \u001b[0mstring\u001b[0m \u001b[0;34m=\u001b[0m \u001b[0mfile\u001b[0m\u001b[0;34m.\u001b[0m\u001b[0mread\u001b[0m\u001b[0;34m(\u001b[0m\u001b[0;34m)\u001b[0m\u001b[0;34m\u001b[0m\u001b[0;34m\u001b[0m\u001b[0m\n\u001b[1;32m      4\u001b[0m \u001b[0mraw_text\u001b[0m \u001b[0;34m=\u001b[0m \u001b[0mstring\u001b[0m\u001b[0;34m.\u001b[0m\u001b[0msplit\u001b[0m\u001b[0;34m(\u001b[0m\u001b[0;34m'***'\u001b[0m\u001b[0;34m)\u001b[0m\u001b[0;34m\u001b[0m\u001b[0;34m\u001b[0m\u001b[0m\n\u001b[1;32m      5\u001b[0m \u001b[0mnew_text\u001b[0m \u001b[0;34m=\u001b[0m \u001b[0mraw_text\u001b[0m\u001b[0;34m[\u001b[0m\u001b[0;36m2\u001b[0m\u001b[0;34m]\u001b[0m\u001b[0;34m\u001b[0m\u001b[0;34m\u001b[0m\u001b[0m\n",
      "\u001b[0;31mFileNotFoundError\u001b[0m: [Errno 2] No such file or directory: 'pg31100.txt'"
     ]
    }
   ],
   "source": [
    "name3 = 'pg31100.txt'\n",
    "file = open(name3)\n",
    "string = file.read()\n",
    "raw_text = string.split('***')\n",
    "new_text = raw_text[2]\n",
    "new_text = re.sub(r'[^\\w\\s]','',new_text)\n",
    "new_text = re.sub(r'http\\S+', '',new_text)\n",
    "new_text = re.sub(r'\\d+','',new_text)\n",
    "raw_text1 = ([i.replace(\"\\n\",\" \") for i in new_text.split('\\n\\n') if len(i.split()) > 25][1:])\n",
    "data_frame = []\n",
    "for i in raw_text1:\n",
    "    data_frame.append(i.lower())\n",
    "df1 = pd.DataFrame(data_frame,columns = ['Text'])\n",
    "df1['Label'] = 0"
   ]
  },
  {
   "cell_type": "code",
   "execution_count": 117,
   "metadata": {},
   "outputs": [],
   "source": [
    "name3 = 'pg1661.txt'\n",
    "file = open(name3)\n",
    "string = file.read()\n",
    "raw_text = string.split('***')\n",
    "new_text = raw_text[2]\n",
    "new_text = re.sub(r'[^\\w\\s]','',new_text)\n",
    "new_text = re.sub(r'http\\S+', '',new_text)\n",
    "new_text = re.sub(r'\\d+','',new_text)\n",
    "raw_text1 = ([i.replace(\"\\n\",\" \") for i in new_text.split('\\n\\n') if len(i.split()) > 25][1:])\n",
    "data_frame = []\n",
    "for i in raw_text1:\n",
    "    data_frame.append(i.lower())\n",
    "df2 = pd.DataFrame(data_frame,columns = ['Text'])\n",
    "df2['Label'] = 1"
   ]
  },
  {
   "cell_type": "code",
   "execution_count": 118,
   "metadata": {},
   "outputs": [],
   "source": [
    "name3 = '28054-0.txt'\n",
    "file = open(name3)\n",
    "string = file.read()\n",
    "raw_text = string.split('***')\n",
    "new_text = raw_text[2]\n",
    "new_text = re.sub(r'[^\\w\\s]','',new_text)\n",
    "new_text = re.sub(r'http\\S+', '',new_text)\n",
    "new_text = re.sub(r'\\d+','',new_text)\n",
    "raw_text1 = ([i.replace(\"\\n\",\" \") for i in new_text.split('\\n\\n') if len(i.split()) > 25][1:])\n",
    "data_frame = []\n",
    "for i in raw_text1:\n",
    "    data_frame.append(i.lower())\n",
    "df3 = pd.DataFrame(data_frame,columns = ['Text'])\n",
    "df3['Label'] = 2\n"
   ]
  },
  {
   "cell_type": "markdown",
   "metadata": {},
   "source": [
    "# Create a dataframe for 3 books"
   ]
  },
  {
   "cell_type": "code",
   "execution_count": 119,
   "metadata": {},
   "outputs": [],
   "source": [
    "frames = [df1,df2,df3]\n",
    "result = pd.concat(frames, axis=0, sort=False,ignore_index = True)"
   ]
  },
  {
   "cell_type": "markdown",
   "metadata": {},
   "source": [
    "# Split Training and Testing data"
   ]
  },
  {
   "cell_type": "code",
   "execution_count": 120,
   "metadata": {},
   "outputs": [
    {
     "name": "stdout",
     "output_type": "stream",
     "text": [
      "6928\n",
      "1733\n"
     ]
    }
   ],
   "source": [
    "train_data,test_data,train_label,test_label = train_test_split(result['Text'],result['Label'],test_size = 0.2)\n",
    "print(len(train_data))\n",
    "print(len(test_data))"
   ]
  },
  {
   "cell_type": "markdown",
   "metadata": {},
   "source": [
    "# Feature Extraction using TFIDF"
   ]
  },
  {
   "cell_type": "code",
   "execution_count": 121,
   "metadata": {},
   "outputs": [],
   "source": [
    "vec = TfidfVectorizer()\n",
    "vec.fit(train_data)\n",
    "train_feature1 = pd.DataFrame(vec.transform(train_data).toarray(), columns=sorted(vec.vocabulary_.keys()))\n",
    "test_feature = pd.DataFrame(vec.transform(test_data).toarray(), columns=sorted(vec.vocabulary_.keys()))\n",
    "train_feature\n",
    "train_feature = scipy.sparse.csr_matrix(train_feature1)"
   ]
  },
  {
   "cell_type": "markdown",
   "metadata": {},
   "source": [
    "# Multi-Layer Perceptron Model using Backpropogation"
   ]
  },
  {
   "cell_type": "code",
   "execution_count": 105,
   "metadata": {},
   "outputs": [
    {
     "data": {
      "text/plain": [
       "MLPClassifier(activation='relu', alpha=0.0001, batch_size='auto', beta_1=0.9,\n",
       "       beta_2=0.999, early_stopping=True, epsilon=1e-08,\n",
       "       hidden_layer_sizes=(100,), learning_rate='constant',\n",
       "       learning_rate_init=0.001, max_iter=350, momentum=0.9,\n",
       "       n_iter_no_change=10, nesterovs_momentum=True, power_t=0.5,\n",
       "       random_state=None, shuffle=True, solver='adam', tol=0.0001,\n",
       "       validation_fraction=0.1, verbose=False, warm_start=False)"
      ]
     },
     "execution_count": 105,
     "metadata": {},
     "output_type": "execute_result"
    }
   ],
   "source": [
    "clf = MLPClassifier(early_stopping = True,max_iter = 350)\n",
    "clf.fit(train_feature,train_label)"
   ]
  },
  {
   "cell_type": "code",
   "execution_count": 106,
   "metadata": {},
   "outputs": [],
   "source": [
    "mlp_prediction = clf.predict(test_feature)"
   ]
  },
  {
   "cell_type": "code",
   "execution_count": 107,
   "metadata": {},
   "outputs": [
    {
     "data": {
      "image/png": "[encoded data removed]",
      "text/plain": [
       "<Figure size 432x288 with 1 Axes>"
      ]
     },
     "metadata": {
      "needs_background": "light"
     },
     "output_type": "display_data"
    }
   ],
   "source": [
    "plt.plot(clf.loss_curve_)\n",
    "plt.plot(clf.validation_scores_)\n",
    "plt.show()"
   ]
  },
  {
   "cell_type": "markdown",
   "metadata": {},
   "source": [
    "# Cross Validation Scores"
   ]
  },
  {
   "cell_type": "code",
   "execution_count": 108,
   "metadata": {},
   "outputs": [
    {
     "name": "stdout",
     "output_type": "stream",
     "text": [
      "[0.96539293 0.96536797 0.96606498 0.97545126 0.96173285]\n"
     ]
    }
   ],
   "source": [
    "mlp_scores = cross_val_score(clf, train_feature, train_label, cv=5)\n",
    "print(mlp_scores)"
   ]
  },
  {
   "cell_type": "code",
   "execution_count": 109,
   "metadata": {},
   "outputs": [
    {
     "data": {
      "text/plain": [
       "0.9596076168493941"
      ]
     },
     "execution_count": 109,
     "metadata": {},
     "output_type": "execute_result"
    }
   ],
   "source": [
    "mlp_accuracy = accuracy_score(test_label,mlp_prediction)\n",
    "mlp_accuracy"
   ]
  },
  {
   "cell_type": "markdown",
   "metadata": {},
   "source": [
    "# Recall and Precison for MLP Classifier"
   ]
  },
  {
   "cell_type": "code",
   "execution_count": 114,
   "metadata": {},
   "outputs": [
    {
     "name": "stdout",
     "output_type": "stream",
     "text": [
      "Precision Scores: [0.93886743 0.93211517 0.93559174 0.94791366 0.92881588]\n",
      "Recall Scores: [0.93886743 0.93211517 0.93559174 0.94791366 0.92881588]\n"
     ]
    }
   ],
   "source": [
    "from sklearn.model_selection import cross_val_score\n",
    "from sklearn.model_selection import cross_validate\n",
    "\n",
    "precision_scores = cross_validate(clf, train_feature,train_label,scoring='precision_macro', cv=5)\n",
    "recall_scores = cross_validate(clf, train_feature,train_label,scoring='recall_macro',cv=5)\n",
    "\n",
    "\n",
    "recall = recall_scores['test_score']\n",
    "precision = precision_scores['test_score']\n",
    "\n",
    "print(f\"Precision Scores: {recall}\")\n",
    "print(f\"Recall Scores: {recall}\")"
   ]
  },
  {
   "cell_type": "markdown",
   "metadata": {},
   "source": [
    "# Logistic Regression Function with L2 Regularization"
   ]
  },
  {
   "cell_type": "code",
   "execution_count": 125,
   "metadata": {},
   "outputs": [],
   "source": [
    "def stochiastic_gradient(x, y, w):\n",
    "    sam, feat = x.shape\n",
    "    dw = np.zeros((3, feat))\n",
    "    #z = softmax(w,x)\n",
    "    y = np.array(y)\n",
    "    iter = len(x)\n",
    "    for i in range(iter):\n",
    "            z = softmax(w,x[i])\n",
    "            sub = np.subtract(softmax(w,x[i]), y[i])\n",
    "            sub = sub.reshape(3,1)\n",
    "            k = x[i]\n",
    "            k= k.reshape(1,feat)\n",
    "            inner = np.dot(sub,k)\n",
    "            dw = np.add(dw,inner)    \n",
    "    return dw\n",
    "\n",
    "def softmax(w,x):\n",
    "    z = np.dot(x,w.T)\n",
    "    return np.exp(z)/np.sum(np.exp(z), axis=0)\n",
    "\n",
    "def loss(w,x,y,lr):\n",
    "    cost = np.array((0,0,0))\n",
    "    iter = len(x)\n",
    "    sam, feat = x.shape\n",
    "    y = np.array(y)\n",
    "    for i in range(iter): \n",
    "        z  = softmax(w,x[i])\n",
    "        cost = np.subtract(cost,np.dot(np.array(y[i]),np.log(softmax(w,x[i])))) \n",
    "    return (1/iter)*cost\n",
    "\n",
    "\n",
    "def multi_regression(X,Y,lr,w):\n",
    "    samples , feat = X.shape\n",
    "    x = X.toarray()\n",
    "    w = np.zeros((3,feat)) \n",
    "    for i in range(100):\n",
    "        cost = loss(w,x,Y,lr) \n",
    "        gr = stochiastic_gradient(x,Y,w)\n",
    "        #print(f\"Gradient: {gr}\")\n",
    "        w = w - lr*gr\n",
    "    return w"
   ]
  },
  {
   "cell_type": "code",
   "execution_count": null,
   "metadata": {},
   "outputs": [
    {
     "name": "stdout",
     "output_type": "stream",
     "text": [
      "Error: [0.89496792 0.89496792 0.89496792]\n",
      "Error: [0.89496792 0.89496792 0.89496792]\n",
      "Error: [0.89496792 0.89496792 0.89496792]\n",
      "Error: [0.89496792 0.89496792 0.89496792]\n"
     ]
    }
   ],
   "source": [
    "weights = multi_regression(train_feature,train_label,0.001,0)"
   ]
  },
  {
   "cell_type": "code",
   "execution_count": null,
   "metadata": {},
   "outputs": [],
   "source": [
    "def predict(X, weights):\n",
    "    z = np.dot(X.toarray(), weights.T)\n",
    "    #z = z.T\n",
    "    print(z[1])\n",
    "    k=[]\n",
    "    samples, f = z.shape\n",
    "    for i in range(samples):\n",
    "        k.append(np.argmax(softmax(z[i])))\n",
    "    #k = [x-1 for x in k]\n",
    "    print(f\"Predicticed values are: {k}\")\n",
    "    return k"
   ]
  },
  {
   "cell_type": "markdown",
   "metadata": {},
   "source": [
    "# Analysis "
   ]
  },
  {
   "cell_type": "markdown",
   "metadata": {},
   "source": [
    "#### Logistic regression: The simplest form of Neural Network, that results in decision boundaries that are a straight line\n",
    "#### Neural Networks: A superset that includes Logistic regression and also other classifiers that can generate more complex decision boundaries.\n",
    "#### Logistic Regresion  with L2 regularization Accuracy = 95%\n",
    "#### MLP Classifer Accuracy =  56%\n",
    "\n",
    "#### Recall and Precision Score for MLP classifier is "
   ]
  },
  {
   "cell_type": "code",
   "execution_count": null,
   "metadata": {},
   "outputs": [],
   "source": []
  }
 ],
 "metadata": {
  "kernelspec": {
   "display_name": "Python 3",
   "language": "python",
   "name": "python3"
  },
  "language_info": {
   "codemirror_mode": {
    "name": "ipython",
    "version": 3
   },
   "file_extension": ".py",
   "mimetype": "text/x-python",
   "name": "python",
   "nbconvert_exporter": "python",
   "pygments_lexer": "ipython3",
   "version": "3.7.3"
  }
 },
 "nbformat": 4,
 "nbformat_minor": 2
}
