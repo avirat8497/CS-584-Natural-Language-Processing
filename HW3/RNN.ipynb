{
 "cells": [
  {
   "cell_type": "markdown",
   "metadata": {},
   "source": [
    "# Import all important libraries like keras,LSTM,numpy,matplotlib"
   ]
  },
  {
   "cell_type": "code",
   "execution_count": 71,
   "metadata": {},
   "outputs": [],
   "source": [
    "import numpy as np\n",
    "np.random.seed(42)\n",
    "import tensorflow as tf\n",
    "#tf.set_random_seed(42)\n",
    "from keras.models import Sequential, load_model\n",
    "from keras.layers import Dense, Activation\n",
    "from keras.layers import LSTM, Dropout\n",
    "from keras.layers import TimeDistributed\n",
    "from keras.layers.core import Dense, Activation, Dropout, RepeatVector\n",
    "from keras.optimizers import RMSprop\n",
    "import matplotlib.pyplot as plt\n",
    "import pickle\n",
    "import sys\n",
    "import heapq\n",
    "import seaborn as sns\n",
    "from pylab import rcParams"
   ]
  },
  {
   "cell_type": "markdown",
   "metadata": {},
   "source": [
    "# Read the input.text file and convert all characters to lower case"
   ]
  },
  {
   "cell_type": "code",
   "execution_count": 72,
   "metadata": {},
   "outputs": [
    {
     "name": "stdout",
     "output_type": "stream",
     "text": [
      "corpus length: 609718\n"
     ]
    }
   ],
   "source": [
    "path = 'train.5k.txt'\n",
    "text = open(path).read().lower()\n",
    "print('corpus length:', len(text))"
   ]
  },
  {
   "cell_type": "markdown",
   "metadata": {},
   "source": [
    "# Preprocessing the data"
   ]
  },
  {
   "cell_type": "markdown",
   "metadata": {},
   "source": [
    "# Found all unique chars in the corpus and create char to index and index to char maps"
   ]
  },
  {
   "cell_type": "code",
   "execution_count": 73,
   "metadata": {},
   "outputs": [
    {
     "name": "stdout",
     "output_type": "stream",
     "text": [
      "unique chars: 48\n"
     ]
    }
   ],
   "source": [
    "chars = sorted(list(set(text)))\n",
    "char_indices = dict((c, i) for i, c in enumerate(chars))\n",
    "indices_char = dict((i, c) for i, c in enumerate(chars))\n",
    "print(f'unique chars: {len(chars)}')"
   ]
  },
  {
   "cell_type": "markdown",
   "metadata": {},
   "source": [
    "# Cut the corpus into chunks of 40 characters, spacing the sequences by 3 characters"
   ]
  },
  {
   "cell_type": "code",
   "execution_count": 74,
   "metadata": {},
   "outputs": [
    {
     "name": "stdout",
     "output_type": "stream",
     "text": [
      "num training examples: 203226\n"
     ]
    }
   ],
   "source": [
    "SEQUENCE_LENGTH = 40\n",
    "step = 3\n",
    "sentences = []\n",
    "next_chars = []\n",
    "for i in range(0, len(text) - SEQUENCE_LENGTH, step):\n",
    "    sentences.append(text[i: i + SEQUENCE_LENGTH])\n",
    "    next_chars.append(text[i + SEQUENCE_LENGTH])\n",
    "print(f'num training examples: {len(sentences)}')"
   ]
  },
  {
   "cell_type": "markdown",
   "metadata": {},
   "source": [
    "# Create features and label for the model"
   ]
  },
  {
   "cell_type": "code",
   "execution_count": 75,
   "metadata": {},
   "outputs": [],
   "source": [
    "X = np.zeros((len(sentences), SEQUENCE_LENGTH, len(chars)), dtype=np.bool)\n",
    "y = np.zeros((len(sentences), len(chars)), dtype=np.bool)\n",
    "for i, sentence in enumerate(sentences):\n",
    "    for t, char in enumerate(sentence):\n",
    "        X[i, t, char_indices[char]] = 1\n",
    "    y[i, char_indices[next_chars[i]]] = 1"
   ]
  },
  {
   "cell_type": "code",
   "execution_count": 76,
   "metadata": {},
   "outputs": [
    {
     "name": "stdout",
     "output_type": "stream",
     "text": [
      "(203226, 40, 48)\n",
      "(203226, 48)\n"
     ]
    }
   ],
   "source": [
    "#print(X.shape)\n",
    "#print(y.shape)"
   ]
  },
  {
   "cell_type": "markdown",
   "metadata": {},
   "source": [
    "# Create LSTM model with 128 neurons"
   ]
  },
  {
   "cell_type": "code",
   "execution_count": 77,
   "metadata": {},
   "outputs": [],
   "source": [
    "model = Sequential()\n",
    "model.add(LSTM(128, input_shape=(SEQUENCE_LENGTH, len(chars))))\n",
    "model.add(Dense(len(chars)))\n",
    "model.add(Activation('softmax'))"
   ]
  },
  {
   "cell_type": "markdown",
   "metadata": {},
   "source": [
    "# Training the model using the following steps:\n",
    "### Learing Rate : 1e-3\n",
    "### Optimizer : Adams Optimizer\n",
    "### Batch Size = 50\n",
    "### Window Size = 20"
   ]
  },
  {
   "cell_type": "code",
   "execution_count": 80,
   "metadata": {},
   "outputs": [
    {
     "name": "stdout",
     "output_type": "stream",
     "text": [
      "Train on 193064 samples, validate on 10162 samples\n",
      "Epoch 1/20\n",
      "193064/193064 [==============================] - 218s 1ms/step - loss: 2.2350 - accuracy: 0.3506 - val_loss: 1.9997 - val_accuracy: 0.4075\n",
      "Epoch 2/20\n",
      "193064/193064 [==============================] - 216s 1ms/step - loss: 1.9024 - accuracy: 0.4355 - val_loss: 1.8614 - val_accuracy: 0.4500\n",
      "Epoch 3/20\n",
      "193064/193064 [==============================] - 217s 1ms/step - loss: 1.7727 - accuracy: 0.4725 - val_loss: 1.7749 - val_accuracy: 0.4751\n",
      "Epoch 4/20\n",
      "193064/193064 [==============================] - 212s 1ms/step - loss: 1.6782 - accuracy: 0.4996 - val_loss: 1.7040 - val_accuracy: 0.4959\n",
      "Epoch 5/20\n",
      "193064/193064 [==============================] - 231s 1ms/step - loss: 1.6049 - accuracy: 0.5212 - val_loss: 1.6530 - val_accuracy: 0.5111\n",
      "Epoch 6/20\n",
      "193064/193064 [==============================] - 199s 1ms/step - loss: 1.5470 - accuracy: 0.5379 - val_loss: 1.6131 - val_accuracy: 0.5234\n",
      "Epoch 7/20\n",
      "193064/193064 [==============================] - 198s 1ms/step - loss: 1.5000 - accuracy: 0.5512 - val_loss: 1.5850 - val_accuracy: 0.5337\n",
      "Epoch 8/20\n",
      "193064/193064 [==============================] - 217s 1ms/step - loss: 1.4615 - accuracy: 0.5619 - val_loss: 1.5638 - val_accuracy: 0.5349\n",
      "Epoch 9/20\n",
      "193064/193064 [==============================] - 222s 1ms/step - loss: 1.4287 - accuracy: 0.5706 - val_loss: 1.5401 - val_accuracy: 0.5417\n",
      "Epoch 10/20\n",
      "193064/193064 [==============================] - 224s 1ms/step - loss: 1.3989 - accuracy: 0.5791 - val_loss: 1.5267 - val_accuracy: 0.5506\n",
      "Epoch 11/20\n",
      "193064/193064 [==============================] - 240s 1ms/step - loss: 1.3733 - accuracy: 0.5861 - val_loss: 1.5100 - val_accuracy: 0.5546\n",
      "Epoch 12/20\n",
      "193064/193064 [==============================] - 218s 1ms/step - loss: 1.3502 - accuracy: 0.5928 - val_loss: 1.4992 - val_accuracy: 0.5587\n",
      "Epoch 13/20\n",
      "193064/193064 [==============================] - 197s 1ms/step - loss: 1.3306 - accuracy: 0.5972 - val_loss: 1.4974 - val_accuracy: 0.5571\n",
      "Epoch 14/20\n",
      "193064/193064 [==============================] - 198s 1ms/step - loss: 1.7910 - accuracy: 0.4792 - val_loss: 1.7172 - val_accuracy: 0.4921\n",
      "Epoch 15/20\n",
      "193064/193064 [==============================] - 211s 1ms/step - loss: 1.5002 - accuracy: 0.5483 - val_loss: 1.5163 - val_accuracy: 0.5498\n",
      "Epoch 16/20\n",
      "193064/193064 [==============================] - 226s 1ms/step - loss: 1.5987 - accuracy: 0.5192 - val_loss: 1.7084 - val_accuracy: 0.4853\n",
      "Epoch 17/20\n",
      "193064/193064 [==============================] - 226s 1ms/step - loss: 1.4617 - accuracy: 0.5579 - val_loss: 1.5436 - val_accuracy: 0.5408\n",
      "Epoch 18/20\n",
      "193064/193064 [==============================] - 230s 1ms/step - loss: 1.3831 - accuracy: 0.5819 - val_loss: 1.4954 - val_accuracy: 0.5555\n",
      "Epoch 19/20\n",
      "193064/193064 [==============================] - 229s 1ms/step - loss: 1.3447 - accuracy: 0.5929 - val_loss: 1.4980 - val_accuracy: 0.5621\n",
      "Epoch 20/20\n",
      "193064/193064 [==============================] - 218s 1ms/step - loss: 1.3042 - accuracy: 0.6045 - val_loss: 1.4864 - val_accuracy: 0.5641\n"
     ]
    }
   ],
   "source": [
    "import keras\n",
    "from keras import optimizers\n",
    "optimizer = keras.optimizers.Adam(learning_rate = 1e-3, beta_1=0.9, beta_2=0.999, amsgrad=False)\n",
    "model.compile(loss='categorical_crossentropy', optimizer=optimizer, metrics=['accuracy'])\n",
    "history = model.fit(X, y, validation_split=0.05, batch_size=50, epochs=20, shuffle=True).history"
   ]
  },
  {
   "cell_type": "markdown",
   "metadata": {},
   "source": [
    "# Since the model takes alot of time to train, saving the model"
   ]
  },
  {
   "cell_type": "code",
   "execution_count": 85,
   "metadata": {},
   "outputs": [],
   "source": [
    "model.save('keras_model.h5')\n",
    "pickle.dump(history, open(\"history.p\", \"wb\"))"
   ]
  },
  {
   "cell_type": "markdown",
   "metadata": {},
   "source": [
    "# Reload the saved model "
   ]
  },
  {
   "cell_type": "code",
   "execution_count": 86,
   "metadata": {},
   "outputs": [],
   "source": [
    "model = load_model('keras_model.h5')\n",
    "history = pickle.load(open(\"history.p\", \"rb\"))"
   ]
  },
  {
   "cell_type": "markdown",
   "metadata": {},
   "source": [
    "# Plotting model Accuracy"
   ]
  },
  {
   "cell_type": "code",
   "execution_count": 110,
   "metadata": {},
   "outputs": [
    {
     "data": {
      "image/png": "[encoded data removed]",
      "text/plain": [
       "<Figure size 432x288 with 1 Axes>"
      ]
     },
     "metadata": {
      "needs_background": "light"
     },
     "output_type": "display_data"
    }
   ],
   "source": [
    "plt.plot(history['accuracy'])\n",
    "plt.plot(history['val_accuracy'])\n",
    "plt.title('model accuracy')\n",
    "plt.ylabel('accuracy')\n",
    "plt.xlabel('epoch')\n",
    "plt.legend(['train', 'test'], loc='lower right');"
   ]
  },
  {
   "cell_type": "markdown",
   "metadata": {},
   "source": [
    "# Plotting Model Loss"
   ]
  },
  {
   "cell_type": "code",
   "execution_count": 91,
   "metadata": {},
   "outputs": [
    {
     "data": {
      "image/png": "[encoded data removed]",
      "text/plain": [
       "<Figure size 432x288 with 1 Axes>"
      ]
     },
     "metadata": {
      "needs_background": "light"
     },
     "output_type": "display_data"
    }
   ],
   "source": [
    "plt.plot(history['loss'])\n",
    "plt.plot(history['val_loss'])\n",
    "plt.title('model loss')\n",
    "plt.ylabel('loss')\n",
    "plt.xlabel('epoch')\n",
    "plt.legend(['train', 'test'], loc='upper left');"
   ]
  },
  {
   "cell_type": "markdown",
   "metadata": {},
   "source": [
    "# Calculating the Perplexity"
   ]
  },
  {
   "cell_type": "code",
   "execution_count": 120,
   "metadata": {},
   "outputs": [
    {
     "data": {
      "text/plain": [
       "array([1.50305325, 1.56832764, 1.60818034, 1.64192109, 1.6671571 ,\n",
       "       1.687791  , 1.70515294, 1.70733563, 1.71896796, 1.73425967,\n",
       "       1.74127092, 1.74848256, 1.74555993, 1.63579273, 1.7328949 ,\n",
       "       1.6247233 , 1.7174462 , 1.74281368, 1.75434241, 1.75779851])"
      ]
     },
     "execution_count": 120,
     "metadata": {},
     "output_type": "execute_result"
    }
   ],
   "source": [
    "perplexity = np.exp(history['val_accuracy'])\n",
    "perplexity"
   ]
  },
  {
   "cell_type": "markdown",
   "metadata": {},
   "source": [
    "# Testing the Model "
   ]
  },
  {
   "cell_type": "code",
   "execution_count": 83,
   "metadata": {},
   "outputs": [],
   "source": [
    "def prepare_input(text):\n",
    "    x = np.zeros((1, SEQUENCE_LENGTH, len(chars)))\n",
    "    for t, char in enumerate(text):\n",
    "        x[0, t, char_indices[char]] = 1.  \n",
    "    return x"
   ]
  },
  {
   "cell_type": "code",
   "execution_count": 92,
   "metadata": {},
   "outputs": [],
   "source": [
    "def sample(preds, top_n=3):\n",
    "    preds = np.asarray(preds).astype('float64')\n",
    "    preds = np.log(preds)\n",
    "    exp_preds = np.exp(preds)\n",
    "    preds = exp_preds / np.sum(exp_preds)\n",
    "    \n",
    "    return heapq.nlargest(top_n, range(len(preds)), preds.take)"
   ]
  },
  {
   "cell_type": "markdown",
   "metadata": {},
   "source": [
    "# Predict function"
   ]
  },
  {
   "cell_type": "code",
   "execution_count": 93,
   "metadata": {},
   "outputs": [],
   "source": [
    "def predict_completion(text):\n",
    "    original_text = text\n",
    "    generated = text\n",
    "    completion = ''\n",
    "    while True:\n",
    "        x = prepare_input(text)\n",
    "        preds = model.predict(x, verbose=0)[0]\n",
    "        next_index = sample(preds, top_n=1)[0]\n",
    "        next_char = indices_char[next_index]\n",
    "        text = text[1:] + next_char\n",
    "        completion += next_char\n",
    "        \n",
    "        if len(original_text + completion) + 2 > len(original_text) and next_char == ' ':\n",
    "            return completion"
   ]
  },
  {
   "cell_type": "code",
   "execution_count": 94,
   "metadata": {},
   "outputs": [],
   "source": [
    "def predict_completions(text, n=3):\n",
    "    x = prepare_input(text)\n",
    "    preds = model.predict(x, verbose=0)[0]\n",
    "    next_indices = sample(preds, n)\n",
    "    return [indices_char[idx] + predict_completion(text[1:] + indices_char[idx]) for idx in next_indices]"
   ]
  },
  {
   "cell_type": "markdown",
   "metadata": {},
   "source": [
    "# Preprocess the input.text  file for making predictions"
   ]
  },
  {
   "cell_type": "code",
   "execution_count": 122,
   "metadata": {},
   "outputs": [],
   "source": [
    "path = 'input.txt'\n",
    "text1 = open(path).read().lower()\n",
    "text2 = text1.replace('___',\"\").split(\"\\n\")\n",
    "text3 = text2[:30]\n",
    "#text3"
   ]
  },
  {
   "cell_type": "markdown",
   "metadata": {},
   "source": [
    "# Predictions of the next word using RNN"
   ]
  },
  {
   "cell_type": "code",
   "execution_count": 121,
   "metadata": {},
   "outputs": [
    {
     "name": "stdout",
     "output_type": "stream",
     "text": [
      "but while the new york stock exchange di\n",
      "['sconts ', 'rector ', 'vidend ', 'd ', 'fferent ']\n",
      "\n",
      "some circuit breakers installed after th\n",
      "['e ', 'ink ', 'an ', 'ree ', 'ough ']\n",
      "\n",
      "the n stock specialist firms on the big \n",
      "['bond ', 'do ', 'political ', 'to ', 'some ']\n",
      "\n",
      "big investment banks refused to step up \n",
      "['the ', 'n ', 'a ', '\\n ', 'was ']\n",
      "\n",
      "heavy selling of standard & poor 's 500-\n",
      "['share ', 'discress ', 'whone ', 'fircal ', 'beard ']\n",
      "\n",
      "seven big board stocks ual amr bankameri\n",
      "['ng ', 'th ', 'lity ', 'al ', 'ca ']\n",
      "\n",
      "once again the specialists were not able\n",
      "[' to ', 'as ', 'tter ', 'ed ', 'st ']\n",
      "\n",
      "<unk> james <unk> chairman of specialist\n",
      "['s ', ' and ', 'ing ', 'ly ', 'ment ']\n",
      "\n",
      "when the dollar is in a <unk> even centr\n",
      "['y ', 'ation ', 'ies ', ' and ', 'ous ']\n",
      "\n",
      "speculators are calling for a degree of \n",
      "['the ', 'a ', 'n ', 'state ', '<unk> ']\n",
      "\n",
      "many money managers and some traders had\n",
      "[' n ', 'ers ', 'ned ', 'ven ', 'uration ']\n",
      "\n",
      "then in a <unk> plunge the dow jones ind\n",
      "['ustries ', 'ex ', 'ives ', 'ount ', ' contributing ']\n",
      "\n",
      "<unk> trading accelerated to n million s\n",
      "['aid ', 'ome ', 'hares ', 'ecurities ', 'tock ']\n",
      "\n",
      "at the end of the day n million shares w\n",
      "['ho ', 'ith ', 'as ', 'ere ', 'ould ']\n",
      "\n",
      "the dow 's decline was second in point t\n",
      "['he ', 'o ', 'rade ', 'aken ', 'ime ']\n",
      "\n",
      "in percentage terms however the dow 's d\n",
      "['isconts ', 'epartment ', 'own ', 'ay ', 'ray ']\n",
      "\n",
      "shares of ual the parent of united airli\n",
      "['ne ', 'al ', 've ', 'tical ', 'ge ']\n",
      "\n",
      "wall street 's takeover-stock speculator\n",
      "['s ', ' of ', 'y ', 'ate ', 'ial ']\n",
      "\n",
      "at n p.m. edt came the <unk> news the bi\n",
      "['g ', 'll ', 'd ', 'nk ', 'stly ']\n",
      "\n",
      "on the exchange floor as soon as ual sto\n",
      "['ck ', 'p ', 'ken ', 'll ', 'rt ']\n",
      "\n",
      "several traders could be seen shaking th\n",
      "['e ', 'at ', 'is ', 'ree ', 'ough ']\n",
      "\n",
      "for weeks the market had been nervous ab\n",
      "['out ', 'lier ', 'an ', 'ilities ', 'erticration ']\n",
      "\n",
      "and n minutes after the ual trading halt\n",
      "[' be ', 'h ', 's ', 'ing ', 'ation ']\n",
      "\n",
      "arbitragers could n't dump their ual sto\n",
      "['ck ', 'p ', 'kes ', 'les ', 'rt ']\n",
      "\n",
      "for example their selling caused trading\n",
      "[' a ', 's ', 'r ', 'er ', '-reach ']\n",
      "\n",
      "but as panic spread speculators began to\n",
      "[' the ', 'ld ', 'ok ', 'nath ', 'tal ']\n",
      "\n",
      "when trading was halted in philip morris\n",
      "['h ', 'cors ', 'tible ', 'sion ', 'ple ']\n",
      "\n",
      "selling <unk> because of waves of automa\n",
      "['tion ', 'n ', 'red ', 's ', 'm ']\n",
      "\n",
      "most of the stock selling pressure came \n",
      "['a ', 'to ', '\\n ', 'with ', 'said ']\n",
      "\n",
      "traders said most of their major institu\n",
      "['tional ', 'al ', 'ct ', 're ', 'es ']\n",
      "\n"
     ]
    }
   ],
   "source": [
    "for q in text3:\n",
    "    seq = q[:40].lower()\n",
    "    print(seq)\n",
    "    print(predict_completions(seq, 5))\n",
    "    print()"
   ]
  },
  {
   "cell_type": "code",
   "execution_count": null,
   "metadata": {},
   "outputs": [],
   "source": []
  }
 ],
 "metadata": {
  "kernelspec": {
   "display_name": "Python 3",
   "language": "python",
   "name": "python3"
  },
  "language_info": {
   "codemirror_mode": {
    "name": "ipython",
    "version": 3
   },
   "file_extension": ".py",
   "mimetype": "text/x-python",
   "name": "python",
   "nbconvert_exporter": "python",
   "pygments_lexer": "ipython3",
   "version": "3.7.3"
  }
 },
 "nbformat": 4,
 "nbformat_minor": 2
}
