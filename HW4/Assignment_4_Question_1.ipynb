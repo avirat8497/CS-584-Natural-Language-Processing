{
 "cells": [
  {
   "cell_type": "code",
   "execution_count": 28,
   "metadata": {},
   "outputs": [],
   "source": [
    "from string import punctuation\n",
    "from os import listdir\n",
    "from collections import Counter\n",
    "from nltk.corpus import stopwords\n",
    "import pandas as pd\n",
    "import numpy as np\n",
    "from numpy import array\n",
    "import keras\n",
    "from keras.preprocessing.text import Tokenizer\n",
    "from keras.preprocessing.sequence import pad_sequences\n",
    "from keras.models import Sequential\n",
    "from keras.layers import Dense, Dropout\n",
    "from keras.layers import Flatten\n",
    "from keras.layers import Embedding\n",
    "from keras.layers.convolutional import Conv1D\n",
    "from keras.layers.convolutional import MaxPooling1D\n",
    "from sklearn.preprocessing import LabelBinarizer\n",
    "from sklearn.metrics import accuracy_score\n",
    "import matplotlib.pyplot as plt"
   ]
  },
  {
   "cell_type": "code",
   "execution_count": 2,
   "metadata": {},
   "outputs": [],
   "source": [
    "def read_data(name):\n",
    "    file = open(name)\n",
    "    string = file.read()\n",
    "    return string"
   ]
  },
  {
   "cell_type": "code",
   "execution_count": 3,
   "metadata": {},
   "outputs": [
    {
     "name": "stderr",
     "output_type": "stream",
     "text": [
      "IOPub data rate exceeded.\n",
      "The notebook server will temporarily stop sending output\n",
      "to the client in order to avoid crashing it.\n",
      "To change this limit, set the config variable\n",
      "`--NotebookApp.iopub_data_rate_limit`.\n",
      "\n",
      "Current values:\n",
      "NotebookApp.iopub_data_rate_limit=1000000.0 (bytes/sec)\n",
      "NotebookApp.rate_limit_window=3.0 (secs)\n",
      "\n"
     ]
    }
   ],
   "source": [
    "data1 = read_data('pg31100.txt') \n",
    "raw_text = ([i.replace(\"\\n\",\" \") for i in data1.split('\\n\\n') if len(i.split()) > 25][1:])\n",
    "print(raw_text)\n",
    "data_frame = []\n",
    "for i in raw_text:\n",
    "    data_frame.append(i.lower())\n",
    "df = pd.DataFrame(data_frame,columns = ['Text'])\n",
    "df['Label'] = 0"
   ]
  },
  {
   "cell_type": "code",
   "execution_count": 4,
   "metadata": {},
   "outputs": [
    {
     "data": {
      "text/plain": [
       "1160"
      ]
     },
     "execution_count": 4,
     "metadata": {},
     "output_type": "execute_result"
    }
   ],
   "source": [
    "data2 = read_data('pg1661.txt') \n",
    "raw_text1 = ([i.replace(\"\\n\",\" \") for i in data2.split('\\n\\n') if len(i.split()) > 25][1:])\n",
    "data_frame = []\n",
    "for i in raw_text1:\n",
    "    data_frame.append(i.lower())\n",
    "df1 = pd.DataFrame(data_frame,columns = ['Text'])\n",
    "df1['Label'] = 1\n",
    "len(df1)"
   ]
  },
  {
   "cell_type": "code",
   "execution_count": 5,
   "metadata": {},
   "outputs": [
    {
     "data": {
      "text/plain": [
       "3002"
      ]
     },
     "execution_count": 5,
     "metadata": {},
     "output_type": "execute_result"
    }
   ],
   "source": [
    "data3 = read_data('28054-0.txt') \n",
    "raw_text2 = ([i.replace(\"\\n\",\" \") for i in data3.split('\\n\\n') if len(i.split()) > 25][1:])\n",
    "data_frame = []\n",
    "for i in raw_text2:\n",
    "    data_frame.append(i.lower())\n",
    "df2 = pd.DataFrame(data_frame,columns = ['Text'])\n",
    "df2['Label'] = 2\n",
    "len(df2)"
   ]
  },
  {
   "cell_type": "code",
   "execution_count": 21,
   "metadata": {},
   "outputs": [
    {
     "data": {
      "text/plain": [
       "(11449, 2)"
      ]
     },
     "execution_count": 21,
     "metadata": {},
     "output_type": "execute_result"
    }
   ],
   "source": [
    "frames = [df,df1,df2]\n",
    "dataset = pd.concat(frames, axis=0, sort=False,ignore_index = True)\n",
    "dataset.shape"
   ]
  },
  {
   "cell_type": "markdown",
   "metadata": {},
   "source": [
    "from sklearn.model_selection import train_test_split\n",
    "train_data,test_data = train_test_split(dataset,test_size=0.3)"
   ]
  },
  {
   "cell_type": "code",
   "execution_count": 8,
   "metadata": {},
   "outputs": [],
   "source": [
    "def create_tokens(doc):\n",
    "    tokens = doc.split()\n",
    "    table = str.maketrans('','',punctuation)  #removes punctuations using \n",
    "    tokens = [w.translate(table) for w in tokens] #dictionary of punctuations\n",
    "    tokens = [word for word in tokens if word.isalpha()]\n",
    "    stop_words = set(stopwords.words('english'))\n",
    "    tokens = [w for w in tokens if not w in stop_words]\n",
    "    tokens = [word for word in tokens if len(word)>2]\n",
    "    return tokens"
   ]
  },
  {
   "cell_type": "code",
   "execution_count": 9,
   "metadata": {},
   "outputs": [
    {
     "name": "stderr",
     "output_type": "stream",
     "text": [
      "[nltk_data] Downloading package stopwords to\n",
      "[nltk_data]     /Users/aviratbelekar/nltk_data...\n",
      "[nltk_data]   Package stopwords is already up-to-date!\n"
     ]
    },
    {
     "data": {
      "text/plain": [
       "True"
      ]
     },
     "execution_count": 9,
     "metadata": {},
     "output_type": "execute_result"
    }
   ],
   "source": [
    "import nltk\n",
    "nltk.download(\"stopwords\")"
   ]
  },
  {
   "cell_type": "code",
   "execution_count": 22,
   "metadata": {},
   "outputs": [
    {
     "name": "stdout",
     "output_type": "stream",
     "text": [
      "113\n"
     ]
    }
   ],
   "source": [
    "words = set()\n",
    "vocab = {}\n",
    "\n",
    "token = dataset['Text'][0].split()\n",
    "table = str.maketrans('','',punctuation)\n",
    "tokens = [w.translate(table) for w in token] \n",
    "print(len(tokens))\n",
    "tokens = [word for word in tokens if word.isalpha()]\n",
    "stop_words = set(stopwords.words('english'))\n",
    "tokens = [w for w in tokens if not w in stop_words]\n",
    "tokens = [word for word in tokens if len(word)>2]\n",
    "#print(tokens)"
   ]
  },
  {
   "cell_type": "code",
   "execution_count": 11,
   "metadata": {},
   "outputs": [
    {
     "name": "stdout",
     "output_type": "stream",
     "text": [
      "25815\n",
      "7687\n"
     ]
    }
   ],
   "source": [
    "documents = dataset['Text']\n",
    "for doc in documents:\n",
    "    tokens = create_tokens(doc)\n",
    "    for token in tokens:\n",
    "        if token in vocab:\n",
    "            vocab[token] += 1\n",
    "        else:\n",
    "            vocab[token] = 1\n",
    "print(len(vocab))\n",
    "\n",
    "for word in vocab:\n",
    "    if vocab[word] > 5:\n",
    "        words.add(word)\n",
    "\n",
    "print(len(words))"
   ]
  },
  {
   "cell_type": "code",
   "execution_count": 12,
   "metadata": {},
   "outputs": [],
   "source": [
    "train_documents = []\n",
    "for doc in train_data['Text']:\n",
    "    tokens = doc.split()\n",
    "    final_tokens = []\n",
    "    #final_string = ''\n",
    "    for token in tokens:\n",
    "        if token in words:\n",
    "            final_tokens.append(token)\n",
    "    final_string = ' '.join(final_tokens)\n",
    "    train_documents.append(final_string)\n",
    "\n",
    "test_documents = []\n",
    "for doc in test_data['Text']:\n",
    "    tokens = doc.split()\n",
    "    final_tokens = []\n",
    "    #final_string = ''\n",
    "    for token in tokens:\n",
    "        if token in words:\n",
    "            final_tokens.append(token)\n",
    "    final_string = ' '.join(final_tokens)\n",
    "    test_documents.append(final_string)\n"
   ]
  },
  {
   "cell_type": "code",
   "execution_count": 13,
   "metadata": {},
   "outputs": [
    {
     "name": "stdout",
     "output_type": "stream",
     "text": [
      "(8014, 804)\n",
      "(8014, 3)\n"
     ]
    }
   ],
   "source": [
    "tokenizer = Tokenizer()\n",
    "tokenizer.fit_on_texts(train_data)\n",
    "encoded_docs = tokenizer.texts_to_sequences(train_documents)\n",
    "labels = train_data['Label']\n",
    "max_length = max(([len(s.split()) for s in train_documents]))\n",
    "Xtrain = pad_sequences(encoded_docs, maxlen=max_length, padding='post')\n",
    "ytrain = keras.utils.to_categorical(labels, num_classes=3)\n",
    "print(Xtrain.shape)\n",
    "print(ytrain.shape)"
   ]
  },
  {
   "cell_type": "code",
   "execution_count": 14,
   "metadata": {},
   "outputs": [
    {
     "name": "stdout",
     "output_type": "stream",
     "text": [
      "(3435, 804)\n",
      "(3435, 3)\n"
     ]
    }
   ],
   "source": [
    "encoded_docs = tokenizer.texts_to_sequences(test_documents)\n",
    "labels = test_data['Label']\n",
    "Xtest = pad_sequences(encoded_docs, maxlen=max_length, padding='post')\n",
    "ytest = keras.utils.to_categorical(labels, num_classes=3)\n",
    "print(Xtest.shape)\n",
    "print(ytest.shape)"
   ]
  },
  {
   "cell_type": "code",
   "execution_count": 15,
   "metadata": {},
   "outputs": [
    {
     "name": "stdout",
     "output_type": "stream",
     "text": [
      "3\n",
      "Model: \"sequential_1\"\n",
      "_________________________________________________________________\n",
      "Layer (type)                 Output Shape              Param #   \n",
      "=================================================================\n",
      "embedding_1 (Embedding)      (None, 804, 100)          300       \n",
      "_________________________________________________________________\n",
      "conv1d_1 (Conv1D)            (None, 789, 16)           25616     \n",
      "_________________________________________________________________\n",
      "max_pooling1d_1 (MaxPooling1 (None, 394, 16)           0         \n",
      "_________________________________________________________________\n",
      "conv1d_2 (Conv1D)            (None, 375, 20)           6420      \n",
      "_________________________________________________________________\n",
      "max_pooling1d_2 (MaxPooling1 (None, 187, 20)           0         \n",
      "_________________________________________________________________\n",
      "flatten_1 (Flatten)          (None, 3740)              0         \n",
      "_________________________________________________________________\n",
      "dropout_1 (Dropout)          (None, 3740)              0         \n",
      "_________________________________________________________________\n",
      "dense_1 (Dense)              (None, 3)                 11223     \n",
      "=================================================================\n",
      "Total params: 43,559\n",
      "Trainable params: 43,559\n",
      "Non-trainable params: 0\n",
      "_________________________________________________________________\n",
      "None\n"
     ]
    }
   ],
   "source": [
    "vocab_size = len(tokenizer.word_index) + 1\n",
    "print(vocab_size)\n",
    "model = Sequential()\n",
    "model.add(Embedding(vocab_size, 100, input_length = max_length))\n",
    "model.add(Conv1D(filters= 16, kernel_size= 16, activation='relu'))\n",
    "model.add(MaxPooling1D(pool_size=2))\n",
    "model.add(Conv1D(filters=20, kernel_size=20, activation='relu'))\n",
    "model.add(MaxPooling1D(pool_size=2))\n",
    "model.add(Flatten())\n",
    "model.add(Dropout(0.2))\n",
    "model.add(Dense(3, activation='softmax'))\n",
    "print(model.summary())"
   ]
  },
  {
   "cell_type": "code",
   "execution_count": 30,
   "metadata": {},
   "outputs": [
    {
     "name": "stderr",
     "output_type": "stream",
     "text": [
      "/anaconda3/lib/python3.7/site-packages/tensorflow_core/python/framework/indexed_slices.py:433: UserWarning: Converting sparse IndexedSlices to a dense Tensor of unknown shape. This may consume a large amount of memory.\n",
      "  \"Converting sparse IndexedSlices to a dense Tensor of unknown shape. \"\n"
     ]
    },
    {
     "name": "stdout",
     "output_type": "stream",
     "text": [
      "Train on 8014 samples, validate on 3435 samples\n",
      "Epoch 1/5\n",
      " - 46s - loss: 0.8717 - accuracy: 0.6339 - val_loss: 0.8743 - val_accuracy: 0.6425\n",
      "Epoch 2/5\n",
      " - 42s - loss: 0.8722 - accuracy: 0.6339 - val_loss: 0.8736 - val_accuracy: 0.6425\n",
      "Epoch 3/5\n",
      " - 43s - loss: 0.8712 - accuracy: 0.6339 - val_loss: 0.8759 - val_accuracy: 0.6425\n",
      "Epoch 4/5\n",
      " - 44s - loss: 0.8715 - accuracy: 0.6339 - val_loss: 0.8789 - val_accuracy: 0.6425\n",
      "Epoch 5/5\n",
      " - 153s - loss: 0.8715 - accuracy: 0.6339 - val_loss: 0.8740 - val_accuracy: 0.6425\n"
     ]
    }
   ],
   "source": [
    "model.compile(loss='categorical_crossentropy', optimizer='adam', metrics=['accuracy'])\n",
    "# fit network\n",
    "history = model.fit(Xtrain, ytrain, epochs=5,verbose=2, validation_data = (Xtest,ytest))"
   ]
  },
  {
   "cell_type": "code",
   "execution_count": 31,
   "metadata": {},
   "outputs": [
    {
     "data": {
      "text/plain": [
       "array([[0.6123086 , 0.11002879, 0.27766258],\n",
       "       [0.6123086 , 0.11002879, 0.27766258],\n",
       "       [0.6123086 , 0.11002879, 0.27766258],\n",
       "       ...,\n",
       "       [0.6123086 , 0.11002879, 0.27766258],\n",
       "       [0.6123086 , 0.11002879, 0.27766258],\n",
       "       [0.6123086 , 0.11002879, 0.27766255]], dtype=float32)"
      ]
     },
     "execution_count": 31,
     "metadata": {},
     "output_type": "execute_result"
    }
   ],
   "source": [
    "random_text = [\"shortly after getting his four‐year‐old Mitya\"]\n",
    "encoded_text = tokenizer.texts_to_sequences(test_documents)\n",
    "test_text = pad_sequences(encoded_text, maxlen = max_length, padding= 'post')\n",
    "model.predict(test_text)"
   ]
  },
  {
   "cell_type": "code",
   "execution_count": 32,
   "metadata": {},
   "outputs": [
    {
     "name": "stdout",
     "output_type": "stream",
     "text": [
      "[[0.6123086  0.11002879 0.27766258]\n",
      " [0.6123086  0.11002879 0.27766258]\n",
      " [0.6123086  0.11002879 0.27766258]\n",
      " ...\n",
      " [0.6123086  0.11002879 0.27766258]\n",
      " [0.6123086  0.11002879 0.27766258]\n",
      " [0.6123086  0.11002879 0.27766255]]\n"
     ]
    }
   ],
   "source": [
    "ypred = model.predict(Xtest)\n",
    "print(ypred)\n",
    "pred_labels = []\n",
    "for probs in ypred:\n",
    "    label = np.argmax(probs, axis=-1)\n",
    "    pred_labels.append(int(label))\n",
    "#print(pred_labels)\n",
    "actual_labels = list(labels)"
   ]
  },
  {
   "cell_type": "code",
   "execution_count": 33,
   "metadata": {},
   "outputs": [
    {
     "data": {
      "text/plain": [
       "0.6425036390101893"
      ]
     },
     "execution_count": 33,
     "metadata": {},
     "output_type": "execute_result"
    }
   ],
   "source": [
    "accuracy = accuracy_score(actual_labels,pred_labels)\n",
    "accuracy"
   ]
  },
  {
   "cell_type": "code",
   "execution_count": 34,
   "metadata": {},
   "outputs": [
    {
     "data": {
      "image/png": "[encoded data removed]",
      "text/plain": [
       "<Figure size 432x288 with 1 Axes>"
      ]
     },
     "metadata": {
      "needs_background": "light"
     },
     "output_type": "display_data"
    }
   ],
   "source": [
    "plt.plot(history.history['loss'])\n",
    "plt.plot(history.history['val_loss'])\n",
    "plt.title('model loss')\n",
    "plt.ylabel('loss')\n",
    "plt.xlabel('epoch')\n",
    "plt.show()"
   ]
  },
  {
   "cell_type": "code",
   "execution_count": null,
   "metadata": {},
   "outputs": [],
   "source": []
  }
 ],
 "metadata": {
  "kernelspec": {
   "display_name": "Python 3",
   "language": "python",
   "name": "python3"
  },
  "language_info": {
   "codemirror_mode": {
    "name": "ipython",
    "version": 3
   },
   "file_extension": ".py",
   "mimetype": "text/x-python",
   "name": "python",
   "nbconvert_exporter": "python",
   "pygments_lexer": "ipython3",
   "version": "3.7.3"
  }
 },
 "nbformat": 4,
 "nbformat_minor": 2
}
